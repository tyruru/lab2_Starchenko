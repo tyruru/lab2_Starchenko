{
 "cells": [
  {
   "cell_type": "markdown",
   "metadata": {},
   "source": [
    "---\n",
    "'Лабораторна робота №7. Словники, кортежі. Обробка винятків'\n",
    "---"
   ]
  },
  {
   "cell_type": "markdown",
   "metadata": {},
   "source": [
    "__Мета:__ _навчитися працювати зі структурами даних Кортеж та Словник. Навчитись обробляти основні типи винятків_"
   ]
  },
  {
   "cell_type": "markdown",
   "metadata": {},
   "source": [
    "### Завдання 1"
   ]
  },
  {
   "cell_type": "markdown",
   "metadata": {},
   "source": [
    "Напишіть програму, яка створює кортеж зі списку чисел, а потім виводить на екран всі числа, які менші за задане число `n`. Умова: користувач вводить число `n`, і   щоб створити новий список `result`, який містить всі числа з кортежу, які менші за `n`, реалізувати за допомогою генератора списків."
   ]
  },
  {
   "cell_type": "code",
   "execution_count": 11,
   "metadata": {},
   "outputs": [
    {
     "name": "stdout",
     "output_type": "stream",
     "text": [
      "(3, -1, 0, 9)\n"
     ]
    }
   ],
   "source": [
    "korteg = (3,10,25,-1,0,9)\n",
    "\n",
    "n = 10\n",
    "newKorteg = ()\n",
    "\n",
    "for num in korteg:\n",
    "    if num < n:\n",
    "        newKorteg += (num,)\n",
    "\n",
    "print (newKorteg)\n"
   ]
  },
  {
   "cell_type": "markdown",
   "metadata": {},
   "source": [
    "### Завдання 2\n",
    "Напишіть програму, яка створює кортеж з трьох елементів, які є рядками, та з'єднує їх в один рядок з комою як роздільником. Примітка: з'єднати рядки також можна за допомогою методу `.joint()`"
   ]
  },
  {
   "cell_type": "code",
   "execution_count": 15,
   "metadata": {},
   "outputs": [
    {
     "name": "stdout",
     "output_type": "stream",
     "text": [
      "apple, souce, Miami\n"
     ]
    }
   ],
   "source": [
    "korteg =(\"apple\", \"souce\", \"Miami\")\n",
    "str = ', '.join(korteg)\n",
    "\n",
    "print (str)"
   ]
  },
  {
   "cell_type": "markdown",
   "metadata": {},
   "source": [
    "### Завдання 3 "
   ]
  },
  {
   "cell_type": "markdown",
   "metadata": {},
   "source": [
    "Створіть словник, який містить інформацію про книги в бібліотеці. Ключами будуть назви книг, а значеннями - автори, рік видання та кількість сторінок. Виведіть на екран інформацію про книгу, введену користувачем."
   ]
  },
  {
   "cell_type": "code",
   "execution_count": 54,
   "metadata": {},
   "outputs": [
    {
     "name": "stdout",
     "output_type": "stream",
     "text": [
      "author: 1306\n",
      "year: 1306\n",
      "pages: 1306\n"
     ]
    }
   ],
   "source": [
    "def printInfo(book):\n",
    "    print(\"author:\", book[\"avtor\"])\n",
    "    print(\"year:\", book[\"year\"])\n",
    "    print(\"pages:\", book[\"pages\"])\n",
    "\n",
    "\n",
    "books ={\n",
    "    \"33Bogaturya\" : {\"avtor\" : \"Shevchenko\", \"year\" : \"1337\", \"pages\" : 1337},\n",
    "    \"Sherlock Holmes\" : {\"avtor\" : \"Hmelnickiy\", \"year\" : \"1978\", \"pages\" : 10},\n",
    "    \"1306\" : {\"avtor\" : \"1306\", \"year\" : \"1306\", \"pages\" : 1306}\n",
    "}\n",
    "\n",
    "answer = input(\"Введіть бажану книгу: \")\n",
    "\n",
    "if answer in books:\n",
    "    book = books[answer]\n",
    "    printInfo(book)\n",
    "else:\n",
    "    print(\"Такой книги не существует!\")"
   ]
  },
  {
   "cell_type": "markdown",
   "metadata": {},
   "source": [
    "### Завдання 4"
   ]
  },
  {
   "cell_type": "markdown",
   "metadata": {},
   "source": [
    "Напишіть програму, яка створює словник, що містить інформацію про студентів, використовуючи вказані кортежі в якості значень. Кожен ключ -- це прізвище студента. Виведіть на екран інформацію про студента, введеного користувачем."
   ]
  },
  {
   "cell_type": "code",
   "execution_count": 8,
   "metadata": {},
   "outputs": [
    {
     "name": "stdout",
     "output_type": "stream",
     "text": [
      "\n",
      "Фамилия: name \n",
      "Имя: last \n",
      "Курс: 5\n",
      "\n",
      "Фамилия: 2 \n",
      "Имя: 2 \n",
      "Курс: 2\n"
     ]
    }
   ],
   "source": [
    "def printStudents(students):\n",
    "    for lastName, info in students.items():\n",
    "         print(f\"\\nФамилия: {lastName}\", \n",
    "               f\"\\nИмя: {info['name']}\",\n",
    "               f\"\\nКурс: {info['kurs']}\")\n",
    "\n",
    "\n",
    "students = {}\n",
    "\n",
    "while True:\n",
    "    name = input(\"Введіть імʼя студента:\")\n",
    "    if name == '':\n",
    "        break\n",
    "\n",
    "    lastName = input(\"Введіт прізвище:\")\n",
    "    if lastName == '':\n",
    "        break\n",
    "\n",
    "    kurs = int(input(\"Введіть номер курсу:\"))\n",
    "    if kurs < 1:\n",
    "        break\n",
    "\n",
    "    if lastName in students:\n",
    "        students[lastName] = {\"name\" : name, \"kurs\" : kurs}\n",
    "    else:\n",
    "         students[lastName] = {\"name\" : name, \"kurs\" : kurs}\n",
    "    \n",
    "\n",
    "printStudents(students)\n"
   ]
  },
  {
   "cell_type": "markdown",
   "metadata": {},
   "source": [
    "### Завдання 5"
   ]
  },
  {
   "cell_type": "markdown",
   "metadata": {},
   "source": [
    "Створіть словник, який містить інформацію про більше, ніж один номер телефону для кожного з контактів в телефонній книзі. Ключами будуть імена контактів, а значеннями - список їхніх номерів телефонів. Напишіть функцію, яка дозволяє додати новий номер телефону до списку номерів телефону певного контакту. Потім виведіть на екран список номерів телефонів для всіх контактів."
   ]
  },
  {
   "cell_type": "code",
   "execution_count": 11,
   "metadata": {},
   "outputs": [
    {
     "name": "stdout",
     "output_type": "stream",
     "text": [
      "Wrong name!\n",
      "Name: bogdatn \n",
      "Phone number: 555\n",
      "\n"
     ]
    }
   ],
   "source": [
    "def addNumber():\n",
    "    name = input(\"Enter the contact name: \")\n",
    "    if (name == \"\"):\n",
    "        print(\"Wrong name!\")\n",
    "        return\n",
    "    phoneNumber = input(\"Enter the number: \")\n",
    "    if (phoneNumber == \"\"):\n",
    "        print(\"WrongNumber!\")\n",
    "        return\n",
    "    global contacts\n",
    "    contacts[name] = {\"phoneNumber\" : phoneNumber}\n",
    "\n",
    "def printContacts():\n",
    "    global contacts\n",
    "    for name, num in contacts.items():\n",
    "        print(f\"Name: {name} \\nPhone number: {num['phoneNumber']}\\n\")\n",
    "\n",
    "\n",
    "contacts = {}\n",
    "addNumber()\n",
    "addNumber()\n",
    "printContacts()\n"
   ]
  },
  {
   "cell_type": "markdown",
   "metadata": {},
   "source": [
    "## Контрольні запитання\n",
    "\n",
    "1. Що виведе наступний код?\n",
    "\n",
    "```\n",
    "my_tuple = (1, 2, 3)\n",
    "print(my_tuple[1:])\n",
    "```\n",
    "Відповідь: (2,3)\n",
    "\n",
    "\n",
    "2. Що виведе наступний код?\n",
    "```\n",
    "my_dict = {'a': 1, 'b': 2, 'c': 3}\n",
    "print(my_dict.get('d', 4))\n",
    "```\n",
    "Відповідь: 4\n",
    "\n",
    "\n",
    "3. Що виведе наступний код?\n",
    "```\n",
    "my_tuple = (1, 2, 3)\n",
    "my_tuple[0] = 4\n",
    "print(my_tuple)\n",
    "```\n",
    "Відповідь: Помилку, бо не можна змінювати кортежі\n",
    "\n",
    "\n",
    "4. Що виведе наступний код?\n",
    "```\n",
    "my_dict = {'a': 1, 'b': 2, 'c': 3}\n",
    "my_dict.update({'d': 4})\n",
    "print(my_dict)\n",
    "```\n",
    "Відповідь: {'a': 1, 'b': 2, 'c': 3, 'd': 4}\n",
    "\n"
   ]
  }
 ],
 "metadata": {
  "kernelspec": {
   "display_name": "Python 3 (ipykernel)",
   "language": "python",
   "name": "python3"
  },
  "language_info": {
   "codemirror_mode": {
    "name": "ipython",
    "version": 3
   },
   "file_extension": ".py",
   "mimetype": "text/x-python",
   "name": "python",
   "nbconvert_exporter": "python",
   "pygments_lexer": "ipython3",
   "version": "3.11.5"
  }
 },
 "nbformat": 4,
 "nbformat_minor": 4
}
